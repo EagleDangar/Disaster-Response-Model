{
 "cells": [
  {
   "cell_type": "code",
   "execution_count": 18,
   "metadata": {},
   "outputs": [],
   "source": [
    "import sys\n",
    "import pandas as pd \n",
    "import numpy as np\n",
    "\n",
    "from sqlalchemy import create_engine\n",
    "\n",
    "import sklearn\n",
    "from sklearn.feature_extraction.text import CountVectorizer, TfidfTransformer \n",
    "from sklearn.pipeline import Pipeline, FeatureUnion\n",
    "from sklearn.base import BaseEstimator, TransformerMixin\n",
    "from sklearn.ensemble import RandomForestClassifier\n",
    "from sklearn.multioutput import MultiOutputClassifier\n",
    "from sklearn.model_selection import GridSearchCV, train_test_split\n",
    "from sklearn.metrics import classification_report, roc_auc_score, confusion_matrix\n",
    "\n",
    "import pickle\n",
    "import re\n",
    "\n",
    "from xgboost import XGBClassifier\n",
    "\n",
    "import nltk\n",
    "from nltk.corpus import stopwords\n",
    "from nltk import word_tokenize, sent_tokenize\n",
    "from nltk.stem import WordNetLemmatizer\n",
    "import time\n",
    "\n",
    "try:\n",
    "    nltk.data.find(\"tokenizers/punkt\")\n",
    "    nltk.data.find(\"tokenizers/punkt\")\n",
    "    nltk.data.find(\"tokenizers/punkt\")\n",
    "except LookupError:\n",
    "    nltk.download(\"punkt\")\n",
    "    nltk.download(\"stopwords\")\n",
    "    nltk.download(\"wordnet\")\n",
    "\n",
    "random_state = 122\n",
    "\n",
    "def load_data(database_filepath):\n",
    "    \n",
    "    engine = create_engine(f\"sqlite:///../data/{database_filepath}\")\n",
    "    df = pd.read_sql_table(\"disaster_messages\", engine )\n",
    "    \n",
    "    X = df[\"message\"]\n",
    "    Y = df.drop(columns=[\"id\", \"message\", \"original\", \"genre\"])\n",
    "    category_names = Y.columns\n",
    "    Y = Y.values\n",
    "    \n",
    "    return X, Y, category_names\n",
    "\n",
    "\n",
    "def tokenize(text):\n",
    "\n",
    "    stop_words = stopwords.words(\"english\")\n",
    "    lemmatizer = WordNetLemmatizer()\n",
    "    \n",
    "    url_regex = \"http[s]?://(?:[a-zA-Z]|[0-9]|[$-_@.&+]|[!*\\(\\),]|(?:%[0-9a-fA-F][0-9a-fA-F]))+\"\n",
    "    \n",
    "    detected_urls = re.findall(url_regex, text)\n",
    "    for url in detected_urls:\n",
    "        text = text.replace(url, \"urlplaceholder\")\n",
    "    \n",
    "    tokens = [ lemmatizer.lemmatize(word).strip() for word in word_tokenize(text.lower()) if word.isalnum() and word not in stop_words]\n",
    "    return tokens\n",
    "\n",
    "\n",
    "def evaluate_model(model, X_test, Y_test, category_names):\n",
    "    \n",
    "    print(f\"Evaluating the model on test data ....\")\n",
    "    \n",
    "    Y_pred = model.predict(X_test,Y_test)\n",
    "    \n",
    "    # Calculate the accuracy for each of them.\n",
    "    for i in range(len(category_names)):\n",
    "        print(\"Category:\", category_names[i],\"\\n\", classification_report(Y_test.iloc[:, i].values, Y_pred[:, i]))\n",
    "        print(\"Accuracy of %25s: %.2f\" %(category_names[i], accuracy_score(Y_test.iloc[:, i].values, Y_pred[:,i])))\n",
    "\n",
    "def build_model():\n",
    "    \n",
    "    print(f\"Using XGBclassifier ...\")\n",
    "    classifier = XGBClassifier()\n",
    "    \n",
    "    nlp_pipeline = Pipeline([ (\"count_vect\", CountVectorizer(tokenizer=tokenize)),(\"tf_idf_transf\" ,TfidfTransformer() ) ])\n",
    "    ml_pipeline = Pipeline([ (\"feature_extractor\" , nlp_pipeline) , (\"classifier\" , MultiOutputClassifier(classifier)) ])\n",
    "\n",
    "\n",
    "    print(f\"Searching for best parameters...\")\n",
    "    \n",
    "    parameters = {\"feature_extractor__count_vect__ngram_range\": ((1, 1), (1, 2)) ,\n",
    "        \"feature_extractor__count_vect__max_df\": (0.5, 0.75, 1.0) ,\n",
    "        \"feature_extractor__tf_idf_transf__use_idf\": (True, False) ,\n",
    "        \"classifier__estimator__learning_rate\"    : [0.01, 0.001] ,\n",
    "        \"classifier__estimator__max_depth\"        : [ 6, 8, 9],\n",
    "    }\n",
    "\n",
    "    model = GridSearchCV(ml_pipeline, param_grid = parameters)\n",
    "    \n",
    "    return model\n",
    "\n",
    "def save_model(model, model_filepath):\n",
    "    \n",
    "    print(f\"Saving the model ... \")\n",
    "    joblib.dump(model, model_filepath)\n",
    "\n"
   ]
  },
  {
   "cell_type": "markdown",
   "metadata": {},
   "source": [
    "## Running the model "
   ]
  },
  {
   "cell_type": "code",
   "execution_count": 6,
   "metadata": {},
   "outputs": [
    {
     "name": "stdout",
     "output_type": "stream",
     "text": [
      "Loading data...\n",
      "    DATABASE: disaster_response_detector.db\n"
     ]
    }
   ],
   "source": [
    "database_filepath, model_filepath = \"disaster_response_detector.db\", \"XGB_model_V2.joblib.dat\"\n",
    "\n",
    "\n",
    "print('Loading data...\\n    DATABASE: {}'.format(database_filepath))\n",
    "X, Y, category_names = load_data(database_filepath)\n",
    "X_train, X_test, Y_train, Y_test = train_test_split(X, Y, test_size=0.2, random_state=random_state)\n",
    "\n"
   ]
  },
  {
   "cell_type": "code",
   "execution_count": null,
   "metadata": {
    "scrolled": true
   },
   "outputs": [
    {
     "name": "stdout",
     "output_type": "stream",
     "text": [
      "Building model...\n",
      "Using XGBclassifier ...\n",
      "Searching for best parameters...\n",
      "Training model...\n"
     ]
    }
   ],
   "source": [
    "print('Building model...')\n",
    "model = build_model()\n",
    "\n",
    "print('Training model...')\n",
    "st = time.perf_counter()\n",
    "model.fit(X_train, Y_train)\n",
    "end = time.perf_counter()\n",
    "print(f\" Total training time : {(end-st)/60 :.2f}\")\n",
    "\n"
   ]
  },
  {
   "cell_type": "code",
   "execution_count": null,
   "metadata": {},
   "outputs": [],
   "source": [
    "print('Evaluating model...')\n",
    "evaluate_model(model, X_test, Y_test, category_names)\n",
    "\n",
    "print('Saving model...\\n    MODEL: {}'.format(model_filepath))\n",
    "save_model(model, model_filepath)\n",
    "\n",
    "print('Trained model saved!')"
   ]
  },
  {
   "cell_type": "code",
   "execution_count": null,
   "metadata": {},
   "outputs": [],
   "source": []
  }
 ],
 "metadata": {
  "kernelspec": {
   "display_name": "Python 3",
   "language": "python",
   "name": "python3"
  },
  "language_info": {
   "codemirror_mode": {
    "name": "ipython",
    "version": 3
   },
   "file_extension": ".py",
   "mimetype": "text/x-python",
   "name": "python",
   "nbconvert_exporter": "python",
   "pygments_lexer": "ipython3",
   "version": "3.7.7"
  }
 },
 "nbformat": 4,
 "nbformat_minor": 4
}
